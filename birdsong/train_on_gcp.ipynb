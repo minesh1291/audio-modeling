{
 "cells": [
  {
   "cell_type": "markdown",
   "metadata": {},
   "source": [
    "# train on gcp"
   ]
  },
  {
   "cell_type": "markdown",
   "metadata": {},
   "source": [
    "## required libs"
   ]
  },
  {
   "cell_type": "code",
   "execution_count": 6,
   "metadata": {},
   "outputs": [],
   "source": [
    "import os\n",
    "service_account_keyfile = \"/home/minesh_1291/Minesh/Projects/_keys/my-kaggle-competitions-45419c5943cc.json\"\n",
    "os.environ[\"GOOGLE_APPLICATION_CREDENTIALS\"] = service_account_keyfile"
   ]
  },
  {
   "cell_type": "code",
   "execution_count": 9,
   "metadata": {},
   "outputs": [],
   "source": [
    "# !gcloud auth activate-service-account --key-file $service_account_keyfile"
   ]
  },
  {
   "cell_type": "code",
   "execution_count": 10,
   "metadata": {},
   "outputs": [
    {
     "name": "stdout",
     "output_type": "stream",
     "text": [
      "Updated property [core/account].\n"
     ]
    }
   ],
   "source": [
    "!gcloud config set account \"minesh.1291@gmail.com\""
   ]
  },
  {
   "cell_type": "code",
   "execution_count": 11,
   "metadata": {},
   "outputs": [
    {
     "name": "stdout",
     "output_type": "stream",
     "text": [
      "gs://mkc_transfer/\n",
      "gs://my-kaggle-competitions.appspot.com/\n",
      "gs://staging.my-kaggle-competitions.appspot.com/\n"
     ]
    }
   ],
   "source": [
    "!gsutil ls"
   ]
  },
  {
   "cell_type": "markdown",
   "metadata": {},
   "source": [
    "## Model Name & Version"
   ]
  },
  {
   "cell_type": "code",
   "execution_count": 6,
   "metadata": {},
   "outputs": [
    {
     "data": {
      "text/plain": [
       "'jura_we8_v23'"
      ]
     },
     "execution_count": 6,
     "metadata": {},
     "output_type": "execute_result"
    }
   ],
   "source": [
    "MODEL_NAME = \"birdsong_recognition\"\n",
    "MODEL_VERSION = \"v1\"\n",
    "PKG_VERSION = \"1.0\"\n",
    "\n",
    "PROJECT_ID = \"my-kaggle-competitions\"\n",
    "BUCKET_NAME = \"ml-model-mlm-test\"\n",
    "REGION = \"us-central1\"\n",
    "\n",
    "MODEL_VERSION_NAME = MODEL_NAME+\"_\"+MODEL_VERSION\n",
    "MODEL_VERSION_NAME"
   ]
  },
  {
   "cell_type": "code",
   "execution_count": 7,
   "metadata": {},
   "outputs": [
    {
     "name": "stdout",
     "output_type": "stream",
     "text": [
      "Updated property [core/project].\n",
      "\u001b[1;33mWARNING:\u001b[0m You do not appear to have access to project [ytg-ipo-dev] or it does not exist.\n"
     ]
    }
   ],
   "source": [
    "! gcloud config set project $PROJECT_ID"
   ]
  },
  {
   "cell_type": "markdown",
   "metadata": {},
   "source": [
    "## make folder & files\n",
    "\n",
    "- [model_name].my_pipeline.py  : Pipeline components - Feature calculation + Normalization\n",
    "- [model_name].train.py        : Train using Train Data, Pipeline and Model\n",
    "- [model_name].predictor.py    : Predict using New Data, Pipeline and Model\n",
    "\n",
    "- labeled_dataset_Xy.csv"
   ]
  },
  {
   "cell_type": "code",
   "execution_count": null,
   "metadata": {},
   "outputs": [],
   "source": []
  },
  {
   "cell_type": "markdown",
   "metadata": {},
   "source": [
    "## Export `labeled_dataset_Xy.csv` "
   ]
  },
  {
   "cell_type": "code",
   "execution_count": 12,
   "metadata": {},
   "outputs": [],
   "source": [
    "# df_sr_train.dtypes\n",
    "# df_sr_train.label = df_sr_train.label.astype(\"str\")"
   ]
  },
  {
   "cell_type": "code",
   "execution_count": 88,
   "metadata": {},
   "outputs": [
    {
     "data": {
      "text/plain": [
       "-1    15058\n",
       " 0     4023\n",
       " 1     1253\n",
       " 4     1056\n",
       " 3     1045\n",
       " 2     1042\n",
       " 5      937\n",
       " 6      855\n",
       " 7      777\n",
       "Name: label, dtype: int64"
      ]
     },
     "execution_count": 88,
     "metadata": {},
     "output_type": "execute_result"
    }
   ],
   "source": [
    "df_sr_train.label.value_counts()"
   ]
  },
  {
   "cell_type": "code",
   "execution_count": 8,
   "metadata": {},
   "outputs": [],
   "source": [
    "# df_sr_train.fillna(0).to_csv(\"labeled_dataset_Xy.csv\")"
   ]
  },
  {
   "cell_type": "code",
   "execution_count": 15,
   "metadata": {},
   "outputs": [
    {
     "name": "stdout",
     "output_type": "stream",
     "text": [
      "2020-05-29\n",
      "/snap/google-cloud-sdk/133/lib/third_party/requests/__init__.py:83: RequestsDependencyWarning: Old version of cryptography ([1, 2, 3]) may cause slowdown.\n",
      "  warnings.warn(warning, RequestsDependencyWarning)\n",
      "Copying file://combined_time_tsfresh_features.pkl [Content-Type=application/octet-stream]...\n",
      "\\ [1 files][138.2 MiB/138.2 MiB]                                                \n",
      "Operation completed over 1 objects/138.2 MiB.                                    \n"
     ]
    }
   ],
   "source": [
    "# copy the feature matrix to google cloud\n",
    "!date -Idate\n",
    "!gsutil cp combined_time_tsfresh_features.pkl gs://ml-train/custom_pipeline/$MODEL_NAME/train/$(date -Idate)_1p/labeled_dataset_Xy.joblib"
   ]
  },
  {
   "cell_type": "code",
   "execution_count": null,
   "metadata": {},
   "outputs": [],
   "source": [
    "# list the items in the folder\n",
    "!gsutil ls -lha gs://ml-train/custom_pipeline/$MODEL_NAME/train/$(date -Idate)_1"
   ]
  },
  {
   "cell_type": "markdown",
   "metadata": {},
   "source": [
    "## test local train - check for errors in script"
   ]
  },
  {
   "cell_type": "code",
   "execution_count": 80,
   "metadata": {},
   "outputs": [],
   "source": [
    "# !/home/minesh_1291/anaconda3/bin/pip install google-cloud-storage"
   ]
  },
  {
   "cell_type": "code",
   "execution_count": 76,
   "metadata": {},
   "outputs": [
    {
     "name": "stdout",
     "output_type": "stream",
     "text": [
      "features.shape (26046, 52) \n",
      "target.shape (26046,)\n",
      "Training the model...\n",
      "Model was successfully uploaded.\n"
     ]
    }
   ],
   "source": [
    "#!/home/minesh_1291/anaconda3/bin/python -m audio_model.train --gcs_data_path \"./labeled_dataset_Xy.csv\" --gcs_model_path ."
   ]
  },
  {
   "cell_type": "markdown",
   "metadata": {},
   "source": [
    "### check output"
   ]
  },
  {
   "cell_type": "code",
   "execution_count": 77,
   "metadata": {},
   "outputs": [],
   "source": [
    "pipeline = f.joblib.load(\"pipeline.joblib\")"
   ]
  },
  {
   "cell_type": "code",
   "execution_count": 78,
   "metadata": {},
   "outputs": [
    {
     "name": "stdout",
     "output_type": "stream",
     "text": [
      "0.9072507061331331\n",
      "{'clf__estimator__max_depth': 7, 'clf__estimator__min_samples_leaf': 3, 'clf__estimator__min_samples_split': 6, 'clf__estimator__n_estimators': 5}\n"
     ]
    }
   ],
   "source": [
    "print(pipeline.best_score_)\n",
    "print(pipeline.best_params_)"
   ]
  },
  {
   "cell_type": "code",
   "execution_count": 79,
   "metadata": {},
   "outputs": [
    {
     "data": {
      "text/html": [
       "<div>\n",
       "<style scoped>\n",
       "    .dataframe tbody tr th:only-of-type {\n",
       "        vertical-align: middle;\n",
       "    }\n",
       "\n",
       "    .dataframe tbody tr th {\n",
       "        vertical-align: top;\n",
       "    }\n",
       "\n",
       "    .dataframe thead th {\n",
       "        text-align: right;\n",
       "    }\n",
       "</style>\n",
       "<table border=\"1\" class=\"dataframe\">\n",
       "  <thead>\n",
       "    <tr style=\"text-align: right;\">\n",
       "      <th></th>\n",
       "      <th>params</th>\n",
       "      <th>mean_test_score</th>\n",
       "      <th>std_test_score</th>\n",
       "    </tr>\n",
       "  </thead>\n",
       "  <tbody>\n",
       "    <tr>\n",
       "      <th>1</th>\n",
       "      <td>{'clf__estimator__max_depth': 7, 'clf__estimat...</td>\n",
       "      <td>0.907</td>\n",
       "      <td>0.007</td>\n",
       "    </tr>\n",
       "    <tr>\n",
       "      <th>0</th>\n",
       "      <td>{'clf__estimator__max_depth': 5, 'clf__estimat...</td>\n",
       "      <td>0.887</td>\n",
       "      <td>0.007</td>\n",
       "    </tr>\n",
       "  </tbody>\n",
       "</table>\n",
       "</div>"
      ],
      "text/plain": [
       "                                              params  mean_test_score  \\\n",
       "1  {'clf__estimator__max_depth': 7, 'clf__estimat...            0.907   \n",
       "0  {'clf__estimator__max_depth': 5, 'clf__estimat...            0.887   \n",
       "\n",
       "   std_test_score  \n",
       "1           0.007  \n",
       "0           0.007  "
      ]
     },
     "execution_count": 79,
     "metadata": {},
     "output_type": "execute_result"
    }
   ],
   "source": [
    "df_grid_results = pd.DataFrame(pipeline.cv_results_).round(3)\n",
    "df_grid_results = df_grid_results.sort_values(by='mean_test_score', ascending=False)\n",
    "df_grid_results[[\"params\",\"mean_test_score\",\"std_test_score\"]][:3]"
   ]
  },
  {
   "cell_type": "markdown",
   "metadata": {},
   "source": [
    "## packaging "
   ]
  },
  {
   "cell_type": "code",
   "execution_count": 10,
   "metadata": {},
   "outputs": [
    {
     "name": "stdout",
     "output_type": "stream",
     "text": [
      "Overwriting ./setup.py\n"
     ]
    }
   ],
   "source": [
    "%%writefile ./setup.py\n",
    "from setuptools import setup, find_packages\n",
    "\n",
    "REQUIRED_PACKAGES = ['dataclasses_json', \"xgboost\"]\n",
    "\n",
    "setup(name=\"audio_model\",\n",
    "      packages=[\"audio_model\"],\n",
    "      package_dir={'audio_model':'audio_model'},\n",
    "      version=\"23.0\",\n",
    "      install_requires=REQUIRED_PACKAGES,\n",
    "     )"
   ]
  },
  {
   "cell_type": "code",
   "execution_count": null,
   "metadata": {},
   "outputs": [],
   "source": [
    "!python setup.py sdist --formats=gztar"
   ]
  },
  {
   "cell_type": "markdown",
   "metadata": {},
   "source": [
    "### submit job"
   ]
  },
  {
   "cell_type": "code",
   "execution_count": 19,
   "metadata": {},
   "outputs": [],
   "source": [
    "job_suffix = \"_1p\""
   ]
  },
  {
   "cell_type": "code",
   "execution_count": null,
   "metadata": {},
   "outputs": [],
   "source": [
    "! gcloud ai-platform jobs submit training {MODEL_VERSION_NAME}_training_$(date +\"%Y%m%d_%H%M%S\") \\\n",
    "  --job-dir gs://ml-model-mlm-test/custom_pipeline/$MODEL_NAME/train/$(date -Idate)$job_suffix \\\n",
    "  --package-path ./jura_we8 \\\n",
    "  --module-name jura_we8.train \\\n",
    "  --project $PROJECT_ID \\\n",
    "  --region $REGION \\\n",
    "  --runtime-version 1.15 \\\n",
    "  --python-version 3.7 \\\n",
    "  --scale-tier CUSTOM \\\n",
    "  --master-machine-type n1-standard-64\\\n",
    "  -- \\\n",
    "  --gcs_data_path gs://ml-train/custom_pipeline/$MODEL_NAME/train/$(date -Idate)$job_suffix/labeled_dataset_Xy.joblib \\\n",
    "  --gcs_model_path gs://ml-train/custom_pipeline/$MODEL_NAME/train/$(date -Idate)$job_suffix/model_fast/grid.joblib"
   ]
  },
  {
   "cell_type": "code",
   "execution_count": null,
   "metadata": {},
   "outputs": [],
   "source": [
    "!gsutil ls gs://ml-train/custom_pipeline/$MODEL_NAME/train/$(date -Idate)$job_suffix/model_fast/"
   ]
  },
  {
   "cell_type": "code",
   "execution_count": null,
   "metadata": {},
   "outputs": [],
   "source": [
    "!date -Idate\n",
    "!gsutil cp gs://ml-train/custom_pipeline/$MODEL_NAME/train/$(date -Idate)$job_suffix/model_fast/grid.joblib ."
   ]
  },
  {
   "cell_type": "code",
   "execution_count": 91,
   "metadata": {},
   "outputs": [],
   "source": [
    "# https://cloud.google.com/ai-platform/training/docs/runtime-version-list"
   ]
  },
  {
   "cell_type": "code",
   "execution_count": 107,
   "metadata": {},
   "outputs": [
    {
     "data": {
      "text/plain": [
       "'/usr/bin/python3.6'"
      ]
     },
     "execution_count": 107,
     "metadata": {},
     "output_type": "execute_result"
    }
   ],
   "source": [
    "sys.executable"
   ]
  },
  {
   "cell_type": "code",
   "execution_count": 21,
   "metadata": {},
   "outputs": [
    {
     "data": {
      "text/plain": [
       "('0.82', '0.14.1')"
      ]
     },
     "execution_count": 21,
     "metadata": {},
     "output_type": "execute_result"
    }
   ],
   "source": [
    "import xgboost\n",
    "import joblib \n",
    "xgboost.__version__, joblib.__version__"
   ]
  },
  {
   "cell_type": "code",
   "execution_count": 22,
   "metadata": {},
   "outputs": [],
   "source": [
    "grid_res = joblib.load(\"grid.joblib\")"
   ]
  },
  {
   "cell_type": "code",
   "execution_count": 23,
   "metadata": {},
   "outputs": [
    {
     "name": "stdout",
     "output_type": "stream",
     "text": [
      "0.6900367315758899\n",
      "{'clf__max_depth': 7, 'clf__min_samples_leaf': 3, 'clf__min_samples_split': 6, 'clf__n_estimators': 100}\n"
     ]
    }
   ],
   "source": [
    "print(grid_res.best_score_)\n",
    "print(grid_res.best_params_)"
   ]
  }
 ],
 "metadata": {
  "kernelspec": {
   "display_name": "Python 3",
   "language": "python",
   "name": "python3"
  },
  "language_info": {
   "codemirror_mode": {
    "name": "ipython",
    "version": 3
   },
   "file_extension": ".py",
   "mimetype": "text/x-python",
   "name": "python",
   "nbconvert_exporter": "python",
   "pygments_lexer": "ipython3",
   "version": "3.7.7"
  }
 },
 "nbformat": 4,
 "nbformat_minor": 4
}
